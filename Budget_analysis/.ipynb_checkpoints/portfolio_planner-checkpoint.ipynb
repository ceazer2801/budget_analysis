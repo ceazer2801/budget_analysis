{
 "cells": [
  {
   "cell_type": "code",
   "execution_count": 121,
   "metadata": {},
   "outputs": [],
   "source": [
    "import numpy as np\n",
    "import pandas as pd\n",
    "from datetime import datetime, timedelta\n",
    "import matplotlib.pyplot as plt\n",
    "%matplotlib inline"
   ]
  },
  {
   "cell_type": "code",
   "execution_count": 122,
   "metadata": {},
   "outputs": [],
   "source": [
    "np.random.seed(42)"
   ]
  },
  {
   "cell_type": "markdown",
   "metadata": {},
   "source": [
    "# Portfolio Planner\n",
    "\n",
    "In this activity, you will use the iedfinance api to grab historical data for a 60/40 portfolio using `SPY` to represent the stock portion and `AGG` to represent the bonds."
   ]
  },
  {
   "cell_type": "code",
   "execution_count": 123,
   "metadata": {},
   "outputs": [],
   "source": [
    "from iexfinance.stocks import get_historical_data\n",
    "import iexfinance as iex\n"
   ]
  },
  {
   "cell_type": "markdown",
   "metadata": {},
   "source": [
    "# Data Collection\n",
    "\n",
    "In this step, you will need to use the IEX api to fetch closing prices for the `SPY` and `AGG` tickers. Save the results as a pandas DataFrame"
   ]
  },
  {
   "cell_type": "code",
   "execution_count": 124,
   "metadata": {},
   "outputs": [],
   "source": [
    "list_of_tickers = [\"SPY\", \"AGG\"]\n",
    "end_date = datetime.now()\n",
    "start_date = end_date + timedelta(-365)\n",
    "df = get_historical_data(list_of_tickers, start_date, end_date, output_format=\"pandas\", columns='close')\n",
    "df.sort_index(ascending=True, inplace=True)\n"
   ]
  },
  {
   "cell_type": "code",
   "execution_count": 125,
   "metadata": {},
   "outputs": [
    {
     "data": {
      "text/html": [
       "<div>\n",
       "<style scoped>\n",
       "    .dataframe tbody tr th:only-of-type {\n",
       "        vertical-align: middle;\n",
       "    }\n",
       "\n",
       "    .dataframe tbody tr th {\n",
       "        vertical-align: top;\n",
       "    }\n",
       "\n",
       "    .dataframe thead tr th {\n",
       "        text-align: left;\n",
       "    }\n",
       "\n",
       "    .dataframe thead tr:last-of-type th {\n",
       "        text-align: right;\n",
       "    }\n",
       "</style>\n",
       "<table border=\"1\" class=\"dataframe\">\n",
       "  <thead>\n",
       "    <tr>\n",
       "      <th></th>\n",
       "      <th>SPY</th>\n",
       "      <th>AGG</th>\n",
       "    </tr>\n",
       "    <tr>\n",
       "      <th></th>\n",
       "      <th>close</th>\n",
       "      <th>close</th>\n",
       "    </tr>\n",
       "    <tr>\n",
       "      <th>date</th>\n",
       "      <th></th>\n",
       "      <th></th>\n",
       "    </tr>\n",
       "  </thead>\n",
       "  <tbody>\n",
       "    <tr>\n",
       "      <th>2018-09-05</th>\n",
       "      <td>-0.002691</td>\n",
       "      <td>-0.000471</td>\n",
       "    </tr>\n",
       "    <tr>\n",
       "      <th>2018-09-06</th>\n",
       "      <td>-0.003010</td>\n",
       "      <td>0.001698</td>\n",
       "    </tr>\n",
       "    <tr>\n",
       "      <th>2018-09-07</th>\n",
       "      <td>-0.001943</td>\n",
       "      <td>-0.003578</td>\n",
       "    </tr>\n",
       "    <tr>\n",
       "      <th>2018-09-10</th>\n",
       "      <td>0.001739</td>\n",
       "      <td>0.000945</td>\n",
       "    </tr>\n",
       "    <tr>\n",
       "      <th>2018-09-11</th>\n",
       "      <td>0.003297</td>\n",
       "      <td>-0.001700</td>\n",
       "    </tr>\n",
       "  </tbody>\n",
       "</table>\n",
       "</div>"
      ],
      "text/plain": [
       "                 SPY       AGG\n",
       "               close     close\n",
       "date                          \n",
       "2018-09-05 -0.002691 -0.000471\n",
       "2018-09-06 -0.003010  0.001698\n",
       "2018-09-07 -0.001943 -0.003578\n",
       "2018-09-10  0.001739  0.000945\n",
       "2018-09-11  0.003297 -0.001700"
      ]
     },
     "execution_count": 125,
     "metadata": {},
     "output_type": "execute_result"
    }
   ],
   "source": [
    "\n",
    "daily_returns = df.pct_change().dropna()\n",
    "daily_returns.drop(columns=['open', 'high', 'low', 'volume'], level=1, inplace=True)\n",
    "daily_returns.head()"
   ]
  },
  {
   "cell_type": "markdown",
   "metadata": {},
   "source": [
    "# Monte Carlo Simulation\n",
    "\n",
    "In this step, you will run Monte Carlo Simulations for your portfolio to model portfolio performance at different retirement ages. \n",
    "\n",
    "Complete the following steps:\n",
    "1. Calculate the daily returns for the SPY and AGG closing prices.\n",
    "2. Calculate volatility for both the SPY and AGG closing prices.\n",
    "3. Find the last day's closing price for both stocks and save those as variables.\n",
    "4. Run a Monte Carlo Simulation of at least 100 iterations and generate at least 20 years of closing prices\n",
    "\n",
    "### HINTS:\n",
    "There are 252 trading days per year, so the number of records to generate for each Monte Carlo run will be 252 days * 30 years"
   ]
  },
  {
   "cell_type": "code",
   "execution_count": 126,
   "metadata": {},
   "outputs": [
    {
     "data": {
      "text/plain": [
       "0.00028488453974385086"
      ]
     },
     "execution_count": 126,
     "metadata": {},
     "output_type": "execute_result"
    }
   ],
   "source": [
    "# Calculate the daily roi for the stocks\n",
    "avg_daily_return_spy = daily_returns.mean()['SPY']['close']\n",
    "avg_daily_return_agg = daily_returns.mean()['AGG']['close']\n",
    "avg_daily_return_agg"
   ]
  },
  {
   "cell_type": "code",
   "execution_count": 127,
   "metadata": {},
   "outputs": [
    {
     "data": {
      "text/plain": [
       "0.001841397672134793"
      ]
     },
     "execution_count": 127,
     "metadata": {},
     "output_type": "execute_result"
    }
   ],
   "source": [
    "# Calculate volatility\n",
    "std_dev_daily_return_spy = daily_returns.std()['SPY']['close']\n",
    "std_dev_daily_return_agg = daily_returns.std()['AGG']['close']\n",
    "std_dev_daily_return_agg"
   ]
  },
  {
   "cell_type": "code",
   "execution_count": 128,
   "metadata": {},
   "outputs": [],
   "source": [
    "# Save the last day's closing price\n",
    "spy_last_price = df['SPY']['close'][-1]\n",
    "agg_last_price = df['AGG']['close'][-1]"
   ]
  },
  {
   "cell_type": "code",
   "execution_count": 129,
   "metadata": {},
   "outputs": [],
   "source": [
    "# Setup the Monte Carlo Parameters\n",
    "number_simulations = 500\n",
    "number_records = 252 * 30\n",
    "monte_carlo = pd.DataFrame()\n",
    "portfolio_cumulative_returns = pd.DataFrame()"
   ]
  },
  {
   "cell_type": "code",
   "execution_count": 130,
   "metadata": {},
   "outputs": [
    {
     "data": {
      "text/html": [
       "<div>\n",
       "<style scoped>\n",
       "    .dataframe tbody tr th:only-of-type {\n",
       "        vertical-align: middle;\n",
       "    }\n",
       "\n",
       "    .dataframe tbody tr th {\n",
       "        vertical-align: top;\n",
       "    }\n",
       "\n",
       "    .dataframe thead th {\n",
       "        text-align: right;\n",
       "    }\n",
       "</style>\n",
       "<table border=\"1\" class=\"dataframe\">\n",
       "  <thead>\n",
       "    <tr style=\"text-align: right;\">\n",
       "      <th></th>\n",
       "      <th>0</th>\n",
       "      <th>1</th>\n",
       "      <th>2</th>\n",
       "      <th>3</th>\n",
       "      <th>4</th>\n",
       "      <th>5</th>\n",
       "      <th>6</th>\n",
       "      <th>7</th>\n",
       "      <th>8</th>\n",
       "      <th>9</th>\n",
       "      <th>...</th>\n",
       "      <th>490</th>\n",
       "      <th>491</th>\n",
       "      <th>492</th>\n",
       "      <th>493</th>\n",
       "      <th>494</th>\n",
       "      <th>495</th>\n",
       "      <th>496</th>\n",
       "      <th>497</th>\n",
       "      <th>498</th>\n",
       "      <th>499</th>\n",
       "    </tr>\n",
       "  </thead>\n",
       "  <tbody>\n",
       "    <tr>\n",
       "      <th>0</th>\n",
       "      <td>1.000000</td>\n",
       "      <td>1.000000</td>\n",
       "      <td>1.000000</td>\n",
       "      <td>1.000000</td>\n",
       "      <td>1.000000</td>\n",
       "      <td>1.000000</td>\n",
       "      <td>1.000000</td>\n",
       "      <td>1.000000</td>\n",
       "      <td>1.000000</td>\n",
       "      <td>1.000000</td>\n",
       "      <td>...</td>\n",
       "      <td>1.000000</td>\n",
       "      <td>1.000000</td>\n",
       "      <td>1.000000</td>\n",
       "      <td>1.000000</td>\n",
       "      <td>1.000000</td>\n",
       "      <td>1.000000</td>\n",
       "      <td>1.000000</td>\n",
       "      <td>1.000000</td>\n",
       "      <td>1.000000</td>\n",
       "      <td>1.000000</td>\n",
       "    </tr>\n",
       "    <tr>\n",
       "      <th>1</th>\n",
       "      <td>1.003198</td>\n",
       "      <td>0.993741</td>\n",
       "      <td>0.990602</td>\n",
       "      <td>0.998563</td>\n",
       "      <td>1.005974</td>\n",
       "      <td>1.009201</td>\n",
       "      <td>1.012315</td>\n",
       "      <td>0.993407</td>\n",
       "      <td>1.001846</td>\n",
       "      <td>0.998759</td>\n",
       "      <td>...</td>\n",
       "      <td>1.002166</td>\n",
       "      <td>0.994376</td>\n",
       "      <td>1.009066</td>\n",
       "      <td>0.999240</td>\n",
       "      <td>0.996683</td>\n",
       "      <td>1.003353</td>\n",
       "      <td>0.994250</td>\n",
       "      <td>0.990673</td>\n",
       "      <td>1.003784</td>\n",
       "      <td>0.996360</td>\n",
       "    </tr>\n",
       "    <tr>\n",
       "      <th>2</th>\n",
       "      <td>1.008593</td>\n",
       "      <td>0.998084</td>\n",
       "      <td>0.988739</td>\n",
       "      <td>0.997466</td>\n",
       "      <td>1.010047</td>\n",
       "      <td>0.996492</td>\n",
       "      <td>1.004595</td>\n",
       "      <td>0.979217</td>\n",
       "      <td>1.000312</td>\n",
       "      <td>1.009776</td>\n",
       "      <td>...</td>\n",
       "      <td>1.004164</td>\n",
       "      <td>1.003555</td>\n",
       "      <td>1.012602</td>\n",
       "      <td>1.000651</td>\n",
       "      <td>0.997998</td>\n",
       "      <td>0.999577</td>\n",
       "      <td>0.992991</td>\n",
       "      <td>0.990904</td>\n",
       "      <td>1.003346</td>\n",
       "      <td>1.000560</td>\n",
       "    </tr>\n",
       "    <tr>\n",
       "      <th>3</th>\n",
       "      <td>1.007080</td>\n",
       "      <td>0.997692</td>\n",
       "      <td>0.992948</td>\n",
       "      <td>0.989065</td>\n",
       "      <td>1.008824</td>\n",
       "      <td>1.000691</td>\n",
       "      <td>1.008971</td>\n",
       "      <td>0.971226</td>\n",
       "      <td>0.999526</td>\n",
       "      <td>1.019605</td>\n",
       "      <td>...</td>\n",
       "      <td>1.003630</td>\n",
       "      <td>1.007247</td>\n",
       "      <td>1.018333</td>\n",
       "      <td>1.001785</td>\n",
       "      <td>0.989019</td>\n",
       "      <td>0.997183</td>\n",
       "      <td>0.997031</td>\n",
       "      <td>0.998464</td>\n",
       "      <td>1.007171</td>\n",
       "      <td>0.998111</td>\n",
       "    </tr>\n",
       "    <tr>\n",
       "      <th>4</th>\n",
       "      <td>1.017874</td>\n",
       "      <td>1.000894</td>\n",
       "      <td>0.987277</td>\n",
       "      <td>0.995989</td>\n",
       "      <td>1.009847</td>\n",
       "      <td>0.993197</td>\n",
       "      <td>1.006385</td>\n",
       "      <td>0.967554</td>\n",
       "      <td>1.009485</td>\n",
       "      <td>1.005010</td>\n",
       "      <td>...</td>\n",
       "      <td>1.005902</td>\n",
       "      <td>1.004032</td>\n",
       "      <td>1.015855</td>\n",
       "      <td>1.008751</td>\n",
       "      <td>0.996664</td>\n",
       "      <td>0.992724</td>\n",
       "      <td>0.989212</td>\n",
       "      <td>0.998661</td>\n",
       "      <td>1.012945</td>\n",
       "      <td>1.002263</td>\n",
       "    </tr>\n",
       "  </tbody>\n",
       "</table>\n",
       "<p>5 rows × 500 columns</p>\n",
       "</div>"
      ],
      "text/plain": [
       "        0         1         2         3         4         5         6    \\\n",
       "0  1.000000  1.000000  1.000000  1.000000  1.000000  1.000000  1.000000   \n",
       "1  1.003198  0.993741  0.990602  0.998563  1.005974  1.009201  1.012315   \n",
       "2  1.008593  0.998084  0.988739  0.997466  1.010047  0.996492  1.004595   \n",
       "3  1.007080  0.997692  0.992948  0.989065  1.008824  1.000691  1.008971   \n",
       "4  1.017874  1.000894  0.987277  0.995989  1.009847  0.993197  1.006385   \n",
       "\n",
       "        7         8         9    ...       490       491       492       493  \\\n",
       "0  1.000000  1.000000  1.000000  ...  1.000000  1.000000  1.000000  1.000000   \n",
       "1  0.993407  1.001846  0.998759  ...  1.002166  0.994376  1.009066  0.999240   \n",
       "2  0.979217  1.000312  1.009776  ...  1.004164  1.003555  1.012602  1.000651   \n",
       "3  0.971226  0.999526  1.019605  ...  1.003630  1.007247  1.018333  1.001785   \n",
       "4  0.967554  1.009485  1.005010  ...  1.005902  1.004032  1.015855  1.008751   \n",
       "\n",
       "        494       495       496       497       498       499  \n",
       "0  1.000000  1.000000  1.000000  1.000000  1.000000  1.000000  \n",
       "1  0.996683  1.003353  0.994250  0.990673  1.003784  0.996360  \n",
       "2  0.997998  0.999577  0.992991  0.990904  1.003346  1.000560  \n",
       "3  0.989019  0.997183  0.997031  0.998464  1.007171  0.998111  \n",
       "4  0.996664  0.992724  0.989212  0.998661  1.012945  1.002263  \n",
       "\n",
       "[5 rows x 500 columns]"
      ]
     },
     "execution_count": 130,
     "metadata": {},
     "output_type": "execute_result"
    }
   ],
   "source": [
    "# Run the Monte Carlo Simulation\n",
    "for x in range(number_simulations):\n",
    "    simulated_spy_prices = [spy_last_price]\n",
    "    simulated_agg_prices = [agg_last_price]\n",
    "    for i in range(number_records):\n",
    "        \n",
    "        # Calculate the simulated price using the last price within the list\n",
    "        simulated_spy_price = simulated_spy_prices[-1] * (1 + np.random.normal(avg_daily_return_spy, std_dev_daily_return_spy))\n",
    "        simulated_agg_price = simulated_agg_prices[-1] * (1 + np.random.normal(avg_daily_return_agg, std_dev_daily_return_agg))\n",
    "        \n",
    "        # Append the simulated price to the list\n",
    "        simulated_spy_prices.append(simulated_spy_price)\n",
    "        simulated_agg_prices.append(simulated_agg_price)\n",
    "    \n",
    "    # Append a simulated prices of each simulation to DataFrame\n",
    "    monte_carlo[\"SPY prices\"] = pd.Series(simulated_spy_prices)\n",
    "    monte_carlo[\"AGG prices\"] = pd.Series(simulated_agg_prices)\n",
    "    \n",
    "    # Calculate the daily returns of simulated prices\n",
    "    simulated_daily_returns = monte_carlo.pct_change()\n",
    "    \n",
    "    # Set the portfolio weights for a 60/40 Portfolio (SPY/AGG)\n",
    "    weights = [0.6, 0.4]\n",
    "    \n",
    "    # Use the `dot` function with the weights to multiply weights with each column's simulated daily returns\n",
    "    portfolio_daily_returns = simulated_daily_returns.dot(weights)\n",
    "    \n",
    "    # Calculate the normalized, cumulative return series\n",
    "    portfolio_cumulative_returns[x] = (1 + portfolio_daily_returns.fillna(0)).cumprod()\n",
    "   \n",
    "    \n",
    "    # YOUR CODE HERE\n",
    "portfolio_cumulative_returns.head()"
   ]
  },
  {
   "cell_type": "code",
   "execution_count": 131,
   "metadata": {},
   "outputs": [
    {
     "data": {
      "text/plain": [
       "<Figure size 1440x720 with 0 Axes>"
      ]
     },
     "metadata": {},
     "output_type": "display_data"
    },
    {
     "data": {
      "image/png": "[encoded data removed]",
      "text/plain": [
       "<Figure size 432x288 with 1 Axes>"
      ]
     },
     "metadata": {
      "needs_background": "light"
     },
     "output_type": "display_data"
    }
   ],
   "source": [
    "# Visualize the Simulation\n",
    "plot_title = f\"{x+1} Simulations of Cumulative Portfolio Return Trajectories Over the Next 30 Years for 60/40 SPY/AGG\"\n",
    "\n",
    "plt.figure(figsize=(20,10))\n",
    "portfolio_cumulative_returns.plot(legend=None, title=plot_title)\n",
    "plt.savefig(\"./Images/Monte_Carlo\", bbox_inches='tight')\n",
    "plt.show()\n",
    "plt.close()"
   ]
  },
  {
   "cell_type": "code",
   "execution_count": 132,
   "metadata": {},
   "outputs": [
    {
     "data": {
      "text/plain": [
       "0    3.361799\n",
       "1    2.612700\n",
       "2    4.000198\n",
       "3    4.374724\n",
       "4    3.764573\n",
       "Name: 7560, dtype: float64"
      ]
     },
     "execution_count": 132,
     "metadata": {},
     "output_type": "execute_result"
    }
   ],
   "source": [
    "# Select the last row for the cumulative returns (cumulative returns at 30 years)\n",
    "ending_cumulative_returns_30yr = portfolio_cumulative_returns.iloc[-1, :]\n",
    "ending_cumulative_returns_30yr.head()"
   ]
  },
  {
   "cell_type": "code",
   "execution_count": 133,
   "metadata": {},
   "outputs": [
    {
     "data": {
      "text/plain": [
       "0    1.677264\n",
       "1    1.939444\n",
       "2    1.397215\n",
       "3    2.246719\n",
       "4    2.480050\n",
       "Name: 5040, dtype: float64"
      ]
     },
     "execution_count": 133,
     "metadata": {},
     "output_type": "execute_result"
    }
   ],
   "source": [
    "# Select the last row for the cumulative returns (cumulative returns at 20 years)\n",
    "ending_cumulative_returns_20yr = portfolio_cumulative_returns.iloc[5040, :]\n",
    "ending_cumulative_returns_20yr.head()"
   ]
  },
  {
   "cell_type": "code",
   "execution_count": 134,
   "metadata": {},
   "outputs": [
    {
     "name": "stdout",
     "output_type": "stream",
     "text": [
      "0.05    0.903969\n",
      "0.95    3.824589\n",
      "Name: 5040, dtype: float64\n",
      "0.05    1.051393\n",
      "0.95    6.615350\n",
      "Name: 7560, dtype: float64\n"
     ]
    }
   ],
   "source": [
    "# Display the 90% confidence interval for the ending returns\n",
    "confidence_interval_20yr = ending_cumulative_returns_20yr.quantile(q=[0.05, 0.95])\n",
    "print(confidence_interval_20yr)\n",
    "confidence_interval_30yr = ending_cumulative_returns_30yr.quantile(q=[0.05, 0.95])\n",
    "print(confidence_interval_30yr)"
   ]
  },
  {
   "cell_type": "code",
   "execution_count": 135,
   "metadata": {},
   "outputs": [
    {
     "data": {
      "text/plain": [
       "<matplotlib.lines.Line2D at 0x1b2554ab7f0>"
      ]
     },
     "execution_count": 135,
     "metadata": {},
     "output_type": "execute_result"
    },
    {
     "data": {
      "image/png": "[encoded data removed]",
      "text/plain": [
       "<Figure size 432x288 with 1 Axes>"
      ]
     },
     "metadata": {
      "needs_background": "light"
     },
     "output_type": "display_data"
    },
    {
     "data": {
      "image/png": "[encoded data removed]",
      "text/plain": [
       "<Figure size 432x288 with 1 Axes>"
      ]
     },
     "metadata": {
      "needs_background": "light"
     },
     "output_type": "display_data"
    }
   ],
   "source": [
    "# Visualize the distribution of the ending returns\n",
    "plt.figure();\n",
    "ending_cumulative_returns_20yr.plot(kind='hist', bins=50, title= \"20 Year\", legend = True)\n",
    "plt.axvline(confidence_interval_20yr.iloc[0], color='r')\n",
    "plt.axvline(confidence_interval_20yr.iloc[1], color='r')\n",
    "\n",
    "plt.figure();\n",
    "ending_cumulative_returns_30yr.plot(kind='hist', bins=50, title= \"30 Year\", legend = True)\n",
    "plt.axvline(confidence_interval_30yr.iloc[0], color='r')\n",
    "plt.axvline(confidence_interval_30yr.iloc[1], color='r')"
   ]
  },
  {
   "cell_type": "markdown",
   "metadata": {},
   "source": [
    "---"
   ]
  },
  {
   "cell_type": "markdown",
   "metadata": {},
   "source": [
    "# Retirement Analysis\n",
    "\n",
    "In this section, you will use the monte carlo model to answer the following retirement planning questions:\n",
    "\n",
    "1. What are the expected cumulative returns at 30 years for the 10th, 50th, and 90th percentiles?\n",
    "2. Given an initial investment of `$20,000`, what is the expected portfolio return in dollars at the 10th, 50th, and 90th percentiles?\n",
    "3. Given the current projected annual income from the Plaid analysis, will a 4% withdraw rate from the retirement portfolio meet or exceed that value at the 10th percentile?\n",
    "4. How would a 50% increase in the initial investment amount affect the 4% retirement withdrawal?"
   ]
  },
  {
   "cell_type": "markdown",
   "metadata": {},
   "source": [
    "### What are the expected cumulative returns at 30 years for the 10th, 50th, and 90th percentiles?"
   ]
  },
  {
   "cell_type": "code",
   "execution_count": 136,
   "metadata": {},
   "outputs": [
    {
     "data": {
      "text/plain": [
       "0.1    1.400632\n",
       "0.5    2.665931\n",
       "0.9    5.326931\n",
       "Name: 7560, dtype: float64"
      ]
     },
     "execution_count": 136,
     "metadata": {},
     "output_type": "execute_result"
    }
   ],
   "source": [
    "new_confidence_interval_30yr = ending_cumulative_returns_30yr.quantile(q=[0.1, 0.5, 0.9])\n",
    "new_confidence_interval_30yr"
   ]
  },
  {
   "cell_type": "markdown",
   "metadata": {},
   "source": [
    "### Given an initial investment of `$20,000`, what is the expected portfolio return in dollars at the 10th, 50th, and 90th percentiles?"
   ]
  },
  {
   "cell_type": "code",
   "execution_count": 137,
   "metadata": {},
   "outputs": [
    {
     "name": "stdout",
     "output_type": "stream",
     "text": [
      "The expected portfolio return for initial investment of $20000 over the next 30 Years will end within in the range of 90th percential: $28012, 50th percential: $53318  and 10th percential: $106538\n"
     ]
    }
   ],
   "source": [
    "# Set initial investment\n",
    "initial_investment = 20000\n",
    "\n",
    "# Calculate investment profit/loss of lower and upper bound cumulative portfolio returns\n",
    "investment_pnl_lower_bound = initial_investment * new_confidence_interval_30yr.iloc[0]\n",
    "investment_pnl_middle_bound = initial_investment * new_confidence_interval_30yr.iloc[1]\n",
    "investment_pnl_upper_bound = initial_investment * new_confidence_interval_30yr.iloc[2]\n",
    "investment_pnl_lower_bound = int(investment_pnl_lower_bound)  \n",
    "investment_pnl_upper_bound = int(investment_pnl_upper_bound) \n",
    "investment_pnl_middle_bound = int(investment_pnl_middle_bound)\n",
    "# Print the results\n",
    "print(f\"The expected portfolio return for initial investment of ${initial_investment}\"\n",
    "      f\" over the next 30 Years will end within in the range of 90th percential:\"\n",
    "      f\" ${investment_pnl_lower_bound}, 50th percential: ${investment_pnl_middle_bound}\"\n",
    "      f\"  and 10th percential: ${investment_pnl_upper_bound}\")\n"
   ]
  },
  {
   "cell_type": "markdown",
   "metadata": {},
   "source": [
    "### Given the current projected annual income from the Plaid analysis, will a 4% withdraw rate from the retirement portfolio meet or exceed that value at the 10th percentile?\n",
    "\n",
    "Note: This is effectively saying that 90% of the expected returns will be greater than the return at the 10th percentile, so this can help measure the uncertainty about having enough funds at retirement"
   ]
  },
  {
   "cell_type": "code",
   "execution_count": 138,
   "metadata": {},
   "outputs": [
    {
     "name": "stdout",
     "output_type": "stream",
     "text": [
      "The expected portfolio return for initial investment of $20000 over the next 30 Years will end within in the 10th percential at: $106538, with a 4% withdrawal of $4261 which is less than the $6,058 Projected Yearly Income from the Plaid Analysis\n"
     ]
    }
   ],
   "source": [
    "withdrawal = int(investment_pnl_upper_bound * 0.04)\n",
    "annual_income = 6058\n",
    "if withdrawal > annual_income:\n",
    "    result1 = \"more\"\n",
    "else:\n",
    "    result1 = \"less\"\n",
    "print(f\"The expected portfolio return for initial investment of ${initial_investment}\"\n",
    "      f\" over the next 30 Years will end within in the 10th percential at:\"\n",
    "      f\" ${investment_pnl_upper_bound}, with a 4% withdrawal of ${withdrawal}\"\n",
    "      f\" which is {result1} than the $6,058 Projected Yearly Income from the Plaid Analysis\")"
   ]
  },
  {
   "cell_type": "markdown",
   "metadata": {},
   "source": [
    "### How would a 50% increase in the initial investment amount affect the 4% retirement withdrawal?"
   ]
  },
  {
   "cell_type": "code",
   "execution_count": 139,
   "metadata": {},
   "outputs": [
    {
     "name": "stdout",
     "output_type": "stream",
     "text": [
      "The expected portfolio return for initial investment of $30000.0 over the next 30 Years will end within in the 10th percential at: $159807, with a 4% withdrawal of $6392 which is more than the $6058 Projected Yearly Income from the Plaid Analysis\n"
     ]
    }
   ],
   "source": [
    "new_investment = initial_investment * 1.5\n",
    "\n",
    "new_investment_pnl_upper_bound = new_investment * new_confidence_interval_30yr.iloc[2]\n",
    "new_investment_pnl_upper_bound = int(new_investment_pnl_upper_bound)  \n",
    "new_withdrawal = int(new_investment_pnl_upper_bound * 0.04)\n",
    "if new_withdrawal > annual_income:\n",
    "    result2 = \"more\"\n",
    "else:\n",
    "    result2 = \"less\"\n",
    "print(f\"The expected portfolio return for initial investment of ${new_investment}\"\n",
    "      f\" over the next 30 Years will end within in the 10th percential at:\"\n",
    "      f\" ${new_investment_pnl_upper_bound}, with a 4% withdrawal of ${new_withdrawal}\"\n",
    "      f\" which is {result2} than the ${annual_income} Projected Yearly Income from the Plaid Analysis\")\n"
   ]
  },
  {
   "cell_type": "markdown",
   "metadata": {},
   "source": [
    "### Optional Challenge\n",
    "\n",
    "In this section, you will calculate and plot the cumulative returns for the median and 90% confidence intervals. This plot shows the expected cumulative returns for any given day between the first day and the last day of investment. "
   ]
  },
  {
   "cell_type": "code",
   "execution_count": 140,
   "metadata": {},
   "outputs": [],
   "source": [
    "# YOUR CODE HERE"
   ]
  },
  {
   "cell_type": "code",
   "execution_count": null,
   "metadata": {},
   "outputs": [],
   "source": []
  }
 ],
 "metadata": {
  "kernel_info": {
   "name": "dev"
  },
  "kernelspec": {
   "display_name": "Python 3",
   "language": "python",
   "name": "python3"
  },
  "language_info": {
   "codemirror_mode": {
    "name": "ipython",
    "version": 3
   },
   "file_extension": ".py",
   "mimetype": "text/x-python",
   "name": "python",
   "nbconvert_exporter": "python",
   "pygments_lexer": "ipython3",
   "version": "3.7.3"
  },
  "nteract": {
   "version": "0.12.3"
  }
 },
 "nbformat": 4,
 "nbformat_minor": 4
}
